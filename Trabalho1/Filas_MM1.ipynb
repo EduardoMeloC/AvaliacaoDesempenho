{
 "cells": [
  {
   "attachments": {},
   "cell_type": "markdown",
   "metadata": {},
   "source": [
    "## 3. Implementando os Simuladores para o Caso Exponencial\n",
    "\n",
    "Cenário $\\lambda = 1$ e $\\mu  = 2$\n",
    "\n",
    "Descrição: Considere uma fila M/M/1, em que chegadas ocorrem segundo um fluxo Poisson com taxa 1 chegadas/segundo e serviços são tais que cada serviço é distribuído exponencialmente com média 1/2 segundo. Implemente dois simuladores."
   ]
  },
  {
   "cell_type": "code",
   "execution_count": 1,
   "metadata": {},
   "outputs": [],
   "source": [
    "import random"
   ]
  },
  {
   "cell_type": "code",
   "execution_count": 22,
   "metadata": {},
   "outputs": [],
   "source": [
    "def simulate(arrival_rate, service_rate, max_steps=1000):\n",
    "    total_arrivals = total_departures = total_waiting_time = simulation_time = queue_length = 0\n",
    "    arrivals_queue = []\n",
    "\n",
    "    for i in range(max_steps):\n",
    "        sample_arrival = random.expovariate(arrival_rate)\n",
    "        sample_departure = random.expovariate(service_rate)\n",
    "\n",
    "        if queue_length == 0 or sample_arrival < sample_departure:\n",
    "            # Arrival\n",
    "            simulation_time += sample_arrival\n",
    "            total_arrivals += 1\n",
    "            queue_length += 1\n",
    "            if queue_length > 1:\n",
    "                arrivals_queue.append(simulation_time)\n",
    "        else:\n",
    "            # Departure\n",
    "            simulation_time += sample_departure\n",
    "            total_departures += 1\n",
    "            queue_length -= 1\n",
    "            if len(arrivals_queue) > 0:\n",
    "                total_waiting_time += simulation_time - arrivals_queue.pop(0)\n",
    "\n",
    "    average_waiting_time = total_waiting_time / total_departures\n",
    "    average_clients_in_system = total_arrivals / simulation_time\n",
    "\n",
    "    return {\n",
    "        \"average_waiting_time\": average_waiting_time,\n",
    "        \"average_clients_in_system\": average_clients_in_system\n",
    "    }\n",
    "    print(\"Average waiting time: \", average_waiting_time)\n",
    "    print(\"Average clients in system: \", average_clients_in_system)"
   ]
  },
  {
   "cell_type": "code",
   "execution_count": 23,
   "metadata": {},
   "outputs": [
    {
     "data": {
      "text/plain": [
       "{'average_waiting_time': 0.49929843845209476,\n",
       " 'average_clients_in_system': 0.9917779324943828}"
      ]
     },
     "execution_count": 23,
     "metadata": {},
     "output_type": "execute_result"
    }
   ],
   "source": [
    "simulate(1, 2, 1000)"
   ]
  },
  {
   "attachments": {},
   "cell_type": "markdown",
   "metadata": {},
   "source": []
  }
 ],
 "metadata": {
  "kernelspec": {
   "display_name": "Python 3",
   "language": "python",
   "name": "python3"
  },
  "language_info": {
   "codemirror_mode": {
    "name": "ipython",
    "version": 3
   },
   "file_extension": ".py",
   "mimetype": "text/x-python",
   "name": "python",
   "nbconvert_exporter": "python",
   "pygments_lexer": "ipython3",
   "version": "3.10.2"
  },
  "orig_nbformat": 4
 },
 "nbformat": 4,
 "nbformat_minor": 2
}
