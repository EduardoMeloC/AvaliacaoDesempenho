{
 "cells": [
  {
   "attachments": {},
   "cell_type": "markdown",
   "metadata": {},
   "source": [
    "## 3. Implementando os Simuladores para o Caso Exponencial\n",
    "\n",
    "Cenário $\\lambda = 1$ e $\\mu  = 2$\n",
    "\n",
    "Descrição: Considere uma fila M/M/1, em que chegadas ocorrem segundo um fluxo Poisson com taxa 1 chegadas/segundo e serviços são tais que cada serviço é distribuído exponencialmente com média 1/2 segundo. Implemente dois simuladores."
   ]
  },
  {
   "cell_type": "code",
   "execution_count": 2,
   "metadata": {},
   "outputs": [],
   "source": [
    "import random"
   ]
  },
  {
   "cell_type": "code",
   "execution_count": 36,
   "metadata": {},
   "outputs": [],
   "source": [
    "import heapq\n",
    "import random\n",
    "\n",
    "def simulate2(arrival_rate, service_rate, max_steps=1000, determ_arrival=False, determ_service=False):\n",
    "    \n",
    "    simulation_time = total_arrivals = total_departures = total_waiting_time = 0\n",
    "    events = []\n",
    "    arrivals_queue = []\n",
    "\n",
    "    gen_arrival = (lambda rate:1/rate) if determ_arrival else lambda rate:random.expovariate(rate)\n",
    "    gen_service = (lambda rate:1/rate) if determ_service else lambda rate:random.expovariate(rate)\n",
    "\n",
    "    heapq.heappush(events, (gen_arrival(arrival_rate), 'chegada'))\n",
    "\n",
    "    while simulation_time < max_steps:\n",
    "        next_event_time, event_type = heapq.heappop(events)\n",
    "        \n",
    "        simulation_time = next_event_time\n",
    "        \n",
    "        if event_type == 'chegada':\n",
    "            #print(\"Arrival\")\n",
    "            total_arrivals += 1\n",
    "            \n",
    "            heapq.heappush(events, (simulation_time + gen_arrival(arrival_rate), 'chegada'))\n",
    "            \n",
    "            if total_arrivals - total_departures == 1:\n",
    "                heapq.heappush(events, (simulation_time + gen_service(service_rate), 'saida'))\n",
    "            if total_arrivals - total_departures > 1:\n",
    "                arrivals_queue.append(simulation_time)\n",
    "            \n",
    "        else:\n",
    "            #print(\"Departure\")\n",
    "            total_departures += 1\n",
    "\n",
    "            if len(arrivals_queue) > 0:\n",
    "                total_waiting_time += simulation_time - arrivals_queue.pop(0)\n",
    "            \n",
    "            if total_arrivals > total_departures:\n",
    "                heapq.heappush(events, (simulation_time + gen_service(service_rate), 'saida'))\n",
    "        \n",
    "    average_waiting_time = total_waiting_time / (total_departures)\n",
    "    average_clients_in_system = total_arrivals / simulation_time\n",
    "\n",
    "    return {\n",
    "        \"average_waiting_time\": average_waiting_time,\n",
    "        \"average_clients_in_system\": average_clients_in_system\n",
    "    }"
   ]
  },
  {
   "cell_type": "code",
   "execution_count": 38,
   "metadata": {},
   "outputs": [
    {
     "name": "stdout",
     "output_type": "stream",
     "text": [
      "{'average_waiting_time': 0.47035250380486354, 'average_clients_in_system': 0.9804233951375383}\n",
      "{'average_waiting_time': 0.2718650761438493, 'average_clients_in_system': 1.004663269795283}\n"
     ]
    }
   ],
   "source": [
    "print(simulate2(1,2,10000))\n",
    "print(simulate2(1,2,10000,determ_service=True))"
   ]
  }
 ],
 "metadata": {
  "kernelspec": {
   "display_name": "Python 3",
   "language": "python",
   "name": "python3"
  },
  "language_info": {
   "codemirror_mode": {
    "name": "ipython",
    "version": 3
   },
   "file_extension": ".py",
   "mimetype": "text/x-python",
   "name": "python",
   "nbconvert_exporter": "python",
   "pygments_lexer": "ipython3",
   "version": "3.11.3"
  },
  "orig_nbformat": 4
 },
 "nbformat": 4,
 "nbformat_minor": 2
}
